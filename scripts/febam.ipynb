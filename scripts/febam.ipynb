{
 "cells": [
  {
   "cell_type": "code",
   "execution_count": 1,
   "id": "e158a356-e5e7-4bd5-b80b-f6c4c0aa4cee",
   "metadata": {},
   "outputs": [],
   "source": [
    "import torch\n",
    "from torch import nn"
   ]
  },
  {
   "cell_type": "code",
   "execution_count": 2,
   "id": "18587790-6f8c-4718-a688-48855357c696",
   "metadata": {},
   "outputs": [],
   "source": [
    "class FEBAM(nn.Module):\n",
    "    def __init__(self, x_dim, y_dim):\n",
    "        super(FEBAM, self).__init__()\n",
    "        self.W = nn.Linear(x_dim, y_dim)\n",
    "        self.sigmoid = nn.Sigmoid()\n",
    "        self.V = nn.Linear(y_dim, x_dim)\n",
    "\n",
    "    def forward(self, x):\n",
    "        update_w = self.W.weight + (y0 - y1\n",
    "        y0 = self.W(x)\n",
    "        y0 = self.sigmoid(y0)\n",
    "        x1 = self.V(y0)\n",
    "        x1 = self.sigmoid(x1)\n",
    "        y1 = self.W(x1)\n",
    "        y1 = self.sigmoid(y1)\n",
    "        return x1, y1"
   ]
  },
  {
   "cell_type": "code",
   "execution_count": 3,
   "id": "db1ce945-db0a-4391-84cc-af924b405e7a",
   "metadata": {},
   "outputs": [],
   "source": [
    "model = FEBAM(10, 10)"
   ]
  },
  {
   "cell_type": "code",
   "execution_count": null,
   "id": "0d632efe-5639-4fac-95eb-4967c285eb29",
   "metadata": {},
   "outputs": [],
   "source": [
    "w = w + lr * (y0 - yt) @ (x0 + xt).T"
   ]
  },
  {
   "cell_type": "code",
   "execution_count": null,
   "id": "0e844973-f9cd-47fd-8bc2-c7a827d59b19",
   "metadata": {},
   "outputs": [],
   "source": []
  }
 ],
 "metadata": {
  "kernelspec": {
   "display_name": "Python 3 (ipykernel)",
   "language": "python",
   "name": "python3"
  },
  "language_info": {
   "codemirror_mode": {
    "name": "ipython",
    "version": 3
   },
   "file_extension": ".py",
   "mimetype": "text/x-python",
   "name": "python",
   "nbconvert_exporter": "python",
   "pygments_lexer": "ipython3",
   "version": "3.10.11"
  }
 },
 "nbformat": 4,
 "nbformat_minor": 5
}
